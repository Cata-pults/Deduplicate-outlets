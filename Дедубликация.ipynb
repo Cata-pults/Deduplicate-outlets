{
 "cells": [
  {
   "cell_type": "code",
   "execution_count": 1,
   "metadata": {},
   "outputs": [],
   "source": [
    "import pandas as pd\n",
    "import pandas_dedupe"
   ]
  },
  {
   "cell_type": "code",
   "execution_count": 2,
   "metadata": {},
   "outputs": [],
   "source": [
    "from pandas_dedupe import dedupe_dataframe"
   ]
  },
  {
   "cell_type": "code",
   "execution_count": 3,
   "metadata": {},
   "outputs": [],
   "source": [
    "import re"
   ]
  },
  {
   "cell_type": "code",
   "execution_count": 4,
   "metadata": {},
   "outputs": [],
   "source": [
    "outlets_raw = pd.read_excel('outlets_raw.xlsx', encoding='utf-8')"
   ]
  },
  {
   "cell_type": "code",
   "execution_count": 5,
   "metadata": {},
   "outputs": [],
   "source": [
    "# удаляем часть названия точки по шаблону 'все, что после \", '\n",
    "\n",
    "outlets_raw['Торг_точка_грязная'] = outlets_raw['Торг_точка_грязная'].str.replace('\",.*', '')"
   ]
  },
  {
   "cell_type": "code",
   "execution_count": 6,
   "metadata": {},
   "outputs": [],
   "source": [
    "# удаляем часть названия точки по шаблону 'все, что не цифра и не буква на 1 месте '\n",
    "   \n",
    "outlets_raw['Торг_точка_грязная'] = outlets_raw['Торг_точка_грязная'].str.replace('^\\\\W', '')"
   ]
  },
  {
   "cell_type": "code",
   "execution_count": 7,
   "metadata": {},
   "outputs": [],
   "source": [
    "# удаляем часть названия точки  ИП, ООО\n",
    "   \n",
    "outlets_raw['Торг_точка_грязная'] = outlets_raw['Торг_точка_грязная'].str.replace('(ИП|ООО)', '')"
   ]
  },
  {
   "cell_type": "code",
   "execution_count": 8,
   "metadata": {},
   "outputs": [],
   "source": [
    "# добавляем пробелы после ,\n",
    "   \n",
    "outlets_raw['Торг_точка_грязная'] = outlets_raw['Торг_точка_грязная'].str.replace(',', ', ')"
   ]
  },
  {
   "cell_type": "code",
   "execution_count": 9,
   "metadata": {},
   "outputs": [],
   "source": [
    "# добавляем пробелы после .\n",
    "   \n",
    "outlets_raw['Торг_точка_грязная'] = outlets_raw['Торг_точка_грязная'].str.replace('.', '. ')"
   ]
  },
  {
   "cell_type": "code",
   "execution_count": 10,
   "metadata": {},
   "outputs": [],
   "source": [
    "# меняем - на пробелы\n",
    "   \n",
    "outlets_raw['Торг_точка_грязная'] = outlets_raw['Торг_точка_грязная'].str.replace('-', ' ')"
   ]
  },
  {
   "cell_type": "code",
   "execution_count": 11,
   "metadata": {},
   "outputs": [],
   "source": [
    "# удаляем из названия все знаки пунктуации\n",
    "   \n",
    "outlets_raw['Торг_точка_грязная'] = outlets_raw['Торг_точка_грязная'].str.replace('[!\"\\#\\$%\\&\\'\\(\\)\\*\\+,/:;<=>\\-\\.\\?@_\\[\\]\\^\\{\\|\\}\\~\\\\\\\\]', '')"
   ]
  },
  {
   "cell_type": "code",
   "execution_count": 12,
   "metadata": {},
   "outputs": [],
   "source": [
    "# делаем все буквы в названии строчными\n",
    "\n",
    "outlets_raw['Торг_точка_грязная'] = outlets_raw['Торг_точка_грязная'].str.lower()"
   ]
  },
  {
   "cell_type": "code",
   "execution_count": 13,
   "metadata": {},
   "outputs": [],
   "source": [
    "# удаляем из названия все повторяющиеся пробелы\n",
    "   \n",
    "outlets_raw['Торг_точка_грязная'] = outlets_raw['Торг_точка_грязная'].str.replace(' +', ' ')"
   ]
  },
  {
   "cell_type": "code",
   "execution_count": 14,
   "metadata": {},
   "outputs": [],
   "source": [
    "# удаляем из названия пробел, если он стоит в самом начале\n",
    "   \n",
    "outlets_raw['Торг_точка_грязная'] = outlets_raw['Торг_точка_грязная'].str.replace('^ ', '')"
   ]
  },
  {
   "cell_type": "code",
   "execution_count": 15,
   "metadata": {},
   "outputs": [],
   "source": [
    "# удаляем часть адреса по шаблону 'все, что от ООО до вторых \" '\n",
    "\n",
    "outlets_raw['Торг_точка_грязная_адрес'] = outlets_raw['Торг_точка_грязная_адрес'].str.replace('^ООО.*\".*\"', '')\n",
    "\n",
    "# удаляем часть адреса по шаблону 'все, что от ООО \" '\n",
    "\n",
    "outlets_raw['Торг_точка_грязная_адрес'] = outlets_raw['Торг_точка_грязная_адрес'].str.replace('^ООО.*\".*', '')\n",
    "\n",
    "# добавляем пробелы после ,\n",
    "   \n",
    "outlets_raw['Торг_точка_грязная_адрес'] = outlets_raw['Торг_точка_грязная_адрес'].str.replace(',', ', ')\n",
    "\n",
    "# добавляем пробелы после .\n",
    "   \n",
    "outlets_raw['Торг_точка_грязная_адрес'] = outlets_raw['Торг_точка_грязная_адрес'].str.replace('.', '. ')\n",
    "\n",
    "# меняем - на пробелы\n",
    "   \n",
    "outlets_raw['Торг_точка_грязная_адрес'] = outlets_raw['Торг_точка_грязная_адрес'].str.replace('-', ' ')\n",
    "\n",
    "# удаляем из адреса все знаки пунктуации\n",
    "   \n",
    "outlets_raw['Торг_точка_грязная_адрес'] = outlets_raw['Торг_точка_грязная_адрес'].str.replace('[!\"\\#\\$%\\&\\'\\(\\)\\*\\+,/:;<=>\\-\\.\\?@_\\[\\]\\^\\{\\|\\}\\~\\\\\\\\]', '')\n",
    "\n",
    "# делаем все буквы в адресе строчными\n",
    "\n",
    "outlets_raw['Торг_точка_грязная_адрес'] = outlets_raw['Торг_точка_грязная_адрес'].str.lower()\n",
    "\n",
    "# удаляем из адреса все повторяющиеся пробелы\n",
    "   \n",
    "outlets_raw['Торг_точка_грязная_адрес'] = outlets_raw['Торг_точка_грязная_адрес'].str.replace(' +', ' ')"
   ]
  },
  {
   "cell_type": "code",
   "execution_count": 16,
   "metadata": {},
   "outputs": [],
   "source": [
    "# удаляем адреса из 1 слова\n",
    "\n",
    "outlets_raw['Торг_точка_грязная_адрес'] = outlets_raw['Торг_точка_грязная_адрес'].str.replace('^\\\\w*$', '')"
   ]
  },
  {
   "cell_type": "code",
   "execution_count": 17,
   "metadata": {},
   "outputs": [],
   "source": [
    "# удаляем часть названия адреса по шаблону 'все, что не цифра и не буква на первом месте '\n",
    "\n",
    "outlets_raw['Торг_точка_грязная_адрес'] = outlets_raw['Торг_точка_грязная_адрес'].str.replace('^\\\\W', '')"
   ]
  },
  {
   "cell_type": "code",
   "execution_count": 18,
   "metadata": {},
   "outputs": [],
   "source": [
    "# создадим словарь {название точки: адрес точки} для точек из таблицы outlets_raw\n",
    "\n",
    "d_adress = {key:[] for key in set(outlets_raw['Торг_точка_грязная'])}\n",
    "\n",
    "for row in outlets_raw.itertuples():\n",
    "    d_adress[row.Торг_точка_грязная] += [row.Торг_точка_грязная_адрес]\n",
    "    d_adress[row.Торг_точка_грязная] = list(set(d_adress[row.Торг_точка_грязная]))  # оставляем уникальные значения адреса"
   ]
  },
  {
   "cell_type": "code",
   "execution_count": 19,
   "metadata": {},
   "outputs": [
    {
     "name": "stdout",
     "output_type": "stream",
     "text": [
      "2525\n",
      "116\n"
     ]
    }
   ],
   "source": [
    "# создадим еще 2 словаря: для замены \"\" и \"он же\" на настоящий адрес\n",
    "\n",
    "d_null_adress = {}\n",
    "d_same_adress = {}\n",
    "\n",
    "for outlet, adresses in d_adress.items():\n",
    "    if (len(adresses) == 2) and ('' in adresses) and ('он же' not in adresses):\n",
    "        adresses.remove('')\n",
    "        d_null_adress[outlet] = adresses[0]\n",
    "    if (len(adresses) == 2) and ('' not in adresses) and ('он же' in adresses):\n",
    "        adresses.remove('он же')\n",
    "        d_same_adress[outlet] = adresses[0]\n",
    "    if (len(adresses) == 3) and ('' in adresses) and ('он же' in adresses):\n",
    "        adresses.remove('')\n",
    "        adresses.remove('он же')\n",
    "        d_null_adress[outlet] = adresses[0]\n",
    "        d_same_adress[outlet] = adresses[0]\n",
    "\n",
    "print(len(d_null_adress))\n",
    "print(len(d_same_adress))"
   ]
  },
  {
   "cell_type": "code",
   "execution_count": 20,
   "metadata": {},
   "outputs": [],
   "source": [
    "# сделаем из словарей наборы данных\n",
    "\n",
    "df_same_adress = pd.DataFrame.from_dict(d_same_adress, orient='index', columns=['Торг_точка_грязная_адрес'])\n",
    "df_same_adress = df_same_adress.assign(Торг_точка_грязная=df_same_adress.index.values)\n",
    "\n",
    "df_null_adress = pd.DataFrame.from_dict(d_null_adress, orient='index', columns=['Торг_точка_грязная_адрес'])\n",
    "df_null_adress = df_null_adress.assign(Торг_точка_грязная=df_null_adress.index.values)"
   ]
  },
  {
   "cell_type": "code",
   "execution_count": 21,
   "metadata": {},
   "outputs": [],
   "source": [
    "# заменим значения адресов для тех точек, где адрес указан как 'он же', при помощи объединения таблиц\n",
    "\n",
    "outlets_with_adress = pd.merge(df_same_adress, outlets_raw, how='right', \n",
    "                               left_on='Торг_точка_грязная', right_on='Торг_точка_грязная')"
   ]
  },
  {
   "cell_type": "code",
   "execution_count": 22,
   "metadata": {},
   "outputs": [],
   "source": [
    "# заменим значения адресов для тех точек, где адрес указан как 'он же', при помощи объединения таблиц\n",
    "\n",
    "outlets_with_adress_same = pd.merge(df_same_adress, \n",
    "                               outlets_raw[outlets_raw['Торг_точка_грязная_адрес'] == 'он же'].drop('Торг_точка_грязная_адрес', \n",
    "                                                                                                    axis=1), \n",
    "                               how='right', \n",
    "                               left_on='Торг_точка_грязная', \n",
    "                               right_on='Торг_точка_грязная')"
   ]
  },
  {
   "cell_type": "code",
   "execution_count": 23,
   "metadata": {},
   "outputs": [],
   "source": [
    "outlets_with_adress_same = outlets_with_adress_same.dropna()"
   ]
  },
  {
   "cell_type": "code",
   "execution_count": 24,
   "metadata": {},
   "outputs": [],
   "source": [
    "# заменим значения адресов для тех точек, где адрес указан как '', при помощи объединения таблиц\n",
    "\n",
    "outlets_with_adress_null = pd.merge(df_null_adress, \n",
    "                               outlets_raw[outlets_raw['Торг_точка_грязная_адрес'] == ''].drop('Торг_точка_грязная_адрес', \n",
    "                                                                                                    axis=1), \n",
    "                               how='right', \n",
    "                               left_on='Торг_точка_грязная', \n",
    "                               right_on='Торг_точка_грязная')"
   ]
  },
  {
   "cell_type": "code",
   "execution_count": 25,
   "metadata": {},
   "outputs": [],
   "source": [
    "outlets_with_adress_null = outlets_with_adress_null.dropna()"
   ]
  },
  {
   "cell_type": "code",
   "execution_count": 26,
   "metadata": {},
   "outputs": [],
   "source": [
    "# собираем предыдущие шаги в общую таблицу для дедубликации\n",
    "\n",
    "outlets_to_dedupe = pd.merge(outlets_raw, pd.concat([outlets_with_adress_same, outlets_with_adress_null], ignore_index=True).drop(['outlet_clean_id', 'Город дистрибьютора', 'Торг_точка_грязная'], axis=1), \n",
    "                             how='left', left_on='id', right_on='id')"
   ]
  },
  {
   "cell_type": "code",
   "execution_count": 27,
   "metadata": {},
   "outputs": [],
   "source": [
    "# убираем nan\n",
    "\n",
    "outlets_to_dedupe.fillna('', inplace=True)"
   ]
  },
  {
   "cell_type": "code",
   "execution_count": 28,
   "metadata": {},
   "outputs": [],
   "source": [
    "# заменяем 'он же' на адрес\n",
    "\n",
    "outlets_to_dedupe.Торг_точка_грязная_адрес_x.replace('он же', outlets_to_dedupe.Торг_точка_грязная_адрес_y, inplace=True)"
   ]
  },
  {
   "cell_type": "code",
   "execution_count": 29,
   "metadata": {},
   "outputs": [],
   "source": [
    "# заменяем '' на адрес\n",
    "\n",
    "outlets_to_dedupe.Торг_точка_грязная_адрес_x.replace('', outlets_to_dedupe.Торг_точка_грязная_адрес_y, inplace=True)\n",
    "outlets_to_dedupe = outlets_to_dedupe.drop('Торг_точка_грязная_адрес_y', axis=1)"
   ]
  },
  {
   "cell_type": "code",
   "execution_count": 30,
   "metadata": {},
   "outputs": [],
   "source": [
    "# меняем название столбца\n",
    "\n",
    "outlets_to_dedupe.rename(columns={'Торг_точка_грязная_адрес_x': 'Торг_точка_грязная_адрес'}, inplace=True)"
   ]
  },
  {
   "cell_type": "code",
   "execution_count": 31,
   "metadata": {},
   "outputs": [],
   "source": [
    "# добавим числа вместо адреса со значением ''\n",
    "\n",
    "outlets_to_dedupe.Торг_точка_грязная_адрес.replace('', 1, inplace=True)"
   ]
  },
  {
   "cell_type": "code",
   "execution_count": 32,
   "metadata": {},
   "outputs": [
    {
     "name": "stdout",
     "output_type": "stream",
     "text": [
      "importing data ...\n",
      "reading from dedupe_dataframe_learned_settings\n"
     ]
    },
    {
     "name": "stderr",
     "output_type": "stream",
     "text": [
      "WARNING:dedupe.backport:Dedupe does not currently support multiprocessing on Windows\n"
     ]
    },
    {
     "name": "stdout",
     "output_type": "stream",
     "text": [
      "clustering...\n",
      "# duplicate sets 4575\n"
     ]
    }
   ],
   "source": [
    "# производим дедубликацию\n",
    "\n",
    "dedupe_outlets = dedupe_dataframe(outlets_to_dedupe, ['Торг_точка_грязная', 'Торг_точка_грязная_адрес'])"
   ]
  },
  {
   "cell_type": "code",
   "execution_count": 33,
   "metadata": {},
   "outputs": [],
   "source": [
    "# оставляем только значения с confidence > 0.4\n",
    "\n",
    "dedupe_outlets = dedupe_outlets[dedupe_outlets['confidence'] > 0.4]"
   ]
  },
  {
   "cell_type": "code",
   "execution_count": 34,
   "metadata": {},
   "outputs": [],
   "source": [
    "# загрузим таблицу с исходными данными еще раз\n",
    "\n",
    "outlets_raw_to_join = pd.read_excel('outlets_raw.xlsx', encoding='utf-8')"
   ]
  },
  {
   "cell_type": "code",
   "execution_count": 35,
   "metadata": {},
   "outputs": [],
   "source": [
    "# изменим тип данных в столбце 'id'\n",
    "\n",
    "outlets_raw_to_join['id'] = outlets_raw_to_join['id'].astype(str)"
   ]
  },
  {
   "cell_type": "code",
   "execution_count": 36,
   "metadata": {},
   "outputs": [],
   "source": [
    "# объединим таблицы \n",
    "\n",
    "output = pd.merge(outlets_raw_to_join.drop('outlet_clean_id', axis=1), dedupe_outlets[['id', 'cluster id']], how='left', left_on='id', right_on='id')"
   ]
  },
  {
   "cell_type": "code",
   "execution_count": 37,
   "metadata": {},
   "outputs": [],
   "source": [
    "# убираем nan и преобразовываем значения в целые числа\n",
    "\n",
    "output.fillna(0, inplace=True)\n",
    "output['cluster id'] = output['cluster id'].astype(int)"
   ]
  },
  {
   "cell_type": "code",
   "execution_count": 38,
   "metadata": {},
   "outputs": [],
   "source": [
    "# переименовываем столбец \"cluster id\" в \"outlet_clean_id\"\n",
    "\n",
    "output.rename(columns={'cluster id': 'outlet_clean_id'}, inplace=True)"
   ]
  },
  {
   "cell_type": "code",
   "execution_count": 39,
   "metadata": {},
   "outputs": [],
   "source": [
    "# сохраняем таблицу в Excel\n",
    "\n",
    "output.to_csv(\"output.csv\", index=False)"
   ]
  },
  {
   "cell_type": "code",
   "execution_count": 40,
   "metadata": {},
   "outputs": [],
   "source": [
    "# создаем таблицу \"outlets_clean\"\n",
    "\n",
    "outlets_clean = output[['Торг_точка_грязная_адрес', 'outlet_clean_id', 'id']]"
   ]
  },
  {
   "cell_type": "code",
   "execution_count": 41,
   "metadata": {},
   "outputs": [],
   "source": [
    "# находим максимальный id \n",
    "\n",
    "max_id = max(outlets_clean.outlet_clean_id)"
   ]
  },
  {
   "cell_type": "code",
   "execution_count": 42,
   "metadata": {},
   "outputs": [],
   "source": [
    "# создадим маску и разобьем outlets_clean\n",
    "\n",
    "mask = outlets_clean['outlet_clean_id'] == 0\n",
    "\n",
    "outlets_clean_without_id, outlets_clean_with_id = outlets_clean[mask], outlets_clean[~mask]"
   ]
  },
  {
   "cell_type": "code",
   "execution_count": 43,
   "metadata": {},
   "outputs": [
    {
     "name": "stderr",
     "output_type": "stream",
     "text": [
      "c:\\users\\user\\miniconda3\\lib\\site-packages\\ipykernel_launcher.py:3: SettingWithCopyWarning: \n",
      "A value is trying to be set on a copy of a slice from a DataFrame.\n",
      "Try using .loc[row_indexer,col_indexer] = value instead\n",
      "\n",
      "See the caveats in the documentation: http://pandas.pydata.org/pandas-docs/stable/user_guide/indexing.html#returning-a-view-versus-a-copy\n",
      "  This is separate from the ipykernel package so we can avoid doing imports until\n"
     ]
    }
   ],
   "source": [
    "# изменим тип данных столбца id\n",
    "\n",
    "outlets_clean_without_id['id'] = outlets_clean_without_id['id'].astype(int)"
   ]
  },
  {
   "cell_type": "code",
   "execution_count": 44,
   "metadata": {},
   "outputs": [
    {
     "data": {
      "text/html": [
       "<div>\n",
       "<style scoped>\n",
       "    .dataframe tbody tr th:only-of-type {\n",
       "        vertical-align: middle;\n",
       "    }\n",
       "\n",
       "    .dataframe tbody tr th {\n",
       "        vertical-align: top;\n",
       "    }\n",
       "\n",
       "    .dataframe thead th {\n",
       "        text-align: right;\n",
       "    }\n",
       "</style>\n",
       "<table border=\"1\" class=\"dataframe\">\n",
       "  <thead>\n",
       "    <tr style=\"text-align: right;\">\n",
       "      <th></th>\n",
       "      <th>outlet_clean_id</th>\n",
       "      <th>id</th>\n",
       "    </tr>\n",
       "  </thead>\n",
       "  <tbody>\n",
       "    <tr>\n",
       "      <th>0</th>\n",
       "      <td>4575</td>\n",
       "      <td>0</td>\n",
       "    </tr>\n",
       "    <tr>\n",
       "      <th>4</th>\n",
       "      <td>4576</td>\n",
       "      <td>4</td>\n",
       "    </tr>\n",
       "    <tr>\n",
       "      <th>7</th>\n",
       "      <td>4577</td>\n",
       "      <td>7</td>\n",
       "    </tr>\n",
       "    <tr>\n",
       "      <th>9</th>\n",
       "      <td>4578</td>\n",
       "      <td>9</td>\n",
       "    </tr>\n",
       "    <tr>\n",
       "      <th>13</th>\n",
       "      <td>4579</td>\n",
       "      <td>13</td>\n",
       "    </tr>\n",
       "    <tr>\n",
       "      <th>...</th>\n",
       "      <td>...</td>\n",
       "      <td>...</td>\n",
       "    </tr>\n",
       "    <tr>\n",
       "      <th>20178</th>\n",
       "      <td>12770</td>\n",
       "      <td>20178</td>\n",
       "    </tr>\n",
       "    <tr>\n",
       "      <th>20183</th>\n",
       "      <td>12771</td>\n",
       "      <td>20183</td>\n",
       "    </tr>\n",
       "    <tr>\n",
       "      <th>20197</th>\n",
       "      <td>12772</td>\n",
       "      <td>20197</td>\n",
       "    </tr>\n",
       "    <tr>\n",
       "      <th>20202</th>\n",
       "      <td>12773</td>\n",
       "      <td>20202</td>\n",
       "    </tr>\n",
       "    <tr>\n",
       "      <th>20207</th>\n",
       "      <td>12774</td>\n",
       "      <td>20207</td>\n",
       "    </tr>\n",
       "  </tbody>\n",
       "</table>\n",
       "<p>8200 rows × 2 columns</p>\n",
       "</div>"
      ],
      "text/plain": [
       "       outlet_clean_id     id\n",
       "0                 4575      0\n",
       "4                 4576      4\n",
       "7                 4577      7\n",
       "9                 4578      9\n",
       "13                4579     13\n",
       "...                ...    ...\n",
       "20178            12770  20178\n",
       "20183            12771  20183\n",
       "20197            12772  20197\n",
       "20202            12773  20202\n",
       "20207            12774  20207\n",
       "\n",
       "[8200 rows x 2 columns]"
      ]
     },
     "execution_count": 44,
     "metadata": {},
     "output_type": "execute_result"
    }
   ],
   "source": [
    "# создадим столбец со значениями outlet_clean_id\n",
    "\n",
    "outlet_clean_id = pd.DataFrame({'outlet_clean_id':range(max_id + 1, max_id+len(outlets_clean_without_id) + 1),\n",
    "                               'id':outlets_clean_without_id.index.values})\n",
    "outlet_clean_id.set_index(outlets_clean_without_id.index.values)"
   ]
  },
  {
   "cell_type": "code",
   "execution_count": 45,
   "metadata": {},
   "outputs": [],
   "source": [
    "# обновим значения outlet_clean_id в таблице без outlet_clean_id\n",
    "\n",
    "outlets_clean_without_id = pd.merge(outlet_clean_id, outlets_clean_without_id.drop('outlet_clean_id', axis=1), \n",
    "                                    how='left', left_on='id', right_on='id').drop('id', axis=1)"
   ]
  },
  {
   "cell_type": "code",
   "execution_count": 46,
   "metadata": {},
   "outputs": [],
   "source": [
    "# соберем таблицу outlets_clean\n",
    "\n",
    "outlets_clean = pd.concat([outlets_clean_without_id, outlets_clean_with_id], ignore_index=True, sort=False)"
   ]
  },
  {
   "cell_type": "code",
   "execution_count": 47,
   "metadata": {},
   "outputs": [],
   "source": [
    "outlets_clean = outlets_clean.drop('id', axis=1).fillna('-')"
   ]
  },
  {
   "cell_type": "code",
   "execution_count": 48,
   "metadata": {},
   "outputs": [],
   "source": [
    "# переименуем столбцы в таблице outlets_clean\n",
    "\n",
    "outlets_clean.rename(columns={'Торг_точка_грязная_адрес': 'Торг_точка_чистый_адрес', 'outlet_clean_id': 'id'}, inplace=True)"
   ]
  },
  {
   "cell_type": "code",
   "execution_count": 49,
   "metadata": {},
   "outputs": [],
   "source": [
    "# отсортируем таблицу и удалим дубликаты id\n",
    "\n",
    "outlets_clean = outlets_clean.sort_values(by=['id', 'Торг_точка_чистый_адрес'])\n",
    "outlets_clean = outlets_clean.drop_duplicates(subset='id', keep='last')"
   ]
  },
  {
   "cell_type": "code",
   "execution_count": 50,
   "metadata": {},
   "outputs": [],
   "source": [
    "# сохраняем таблицу в Excel\n",
    "\n",
    "outlets_clean.to_csv(\"outlets_clean.csv\", index=False)"
   ]
  }
 ],
 "metadata": {
  "kernelspec": {
   "display_name": "Python 3",
   "language": "python",
   "name": "python3"
  },
  "language_info": {
   "codemirror_mode": {
    "name": "ipython",
    "version": 3
   },
   "file_extension": ".py",
   "mimetype": "text/x-python",
   "name": "python",
   "nbconvert_exporter": "python",
   "pygments_lexer": "ipython3",
   "version": "3.7.3"
  }
 },
 "nbformat": 4,
 "nbformat_minor": 2
}
